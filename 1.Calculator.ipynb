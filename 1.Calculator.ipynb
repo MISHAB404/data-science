num1=float(input("enter first number:"))
num2=float(input("enter second number:"))
print("select the operation to perform:")
print("1.Addition")
print("2.Substraction")
print("3.Multiplication")
print("4.Division")
ch=int(input("Enter Choice(1-4):"))
if(ch==1):
    print("Additionf:%.2f" %(num1+num2))
elif(ch==2):
    print("Substraction:%.2f" %(num1-num2))
elif(ch==3):
    print("Multiplication::%.2f" %(num1*num2))
elif(ch==4):
    if(num2!=0):
        print("Division:%.2f" %(num1/num2))
    else:
        print("cannot divisible by zero")
else:
    print("Invalid!")
